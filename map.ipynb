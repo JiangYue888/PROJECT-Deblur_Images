{
 "cells": [
  {
   "cell_type": "code",
   "execution_count": 3,
   "metadata": {},
   "outputs": [],
   "source": [
    "import folium  # conda install -c conda-forge folium\n",
    "import pandas as pd\n",
    "import os"
   ]
  },
  {
   "cell_type": "code",
   "execution_count": 4,
   "metadata": {},
   "outputs": [
    {
     "data": {
      "text/plain": [
       "'C:\\\\Users\\\\Yiyi.Zhang\\\\Documents\\\\GitHub\\\\Hotel_Recommendation\\\\doc'"
      ]
     },
     "execution_count": 4,
     "metadata": {},
     "output_type": "execute_result"
    }
   ],
   "source": [
    "os.getcwd()\n",
    "#os.listdir(\"../data\")"
   ]
  },
  {
   "cell_type": "code",
   "execution_count": 5,
   "metadata": {},
   "outputs": [],
   "source": [
    "hotel = pd.read_csv(\"../data/7282_1.csv\")\n",
    "airbnb_listings = pd.read_csv(\"../data/listings.csv\")\n",
    "airbnb_reviews = pd.read_csv(\"../data/reviews.csv\")\n",
    "airbnb_calendar = pd.read_csv(\"../data/calendar.csv\")\n",
    "#crime = pd.read_csv(\"../data/crime.csv\")"
   ]
  },
  {
   "cell_type": "code",
   "execution_count": 16,
   "metadata": {},
   "outputs": [],
   "source": [
    "#airbnb_listings.count\n",
    "#airbnb_listings.head()\n",
    "#list(airbnb_listings)"
   ]
  },
  {
   "cell_type": "code",
   "execution_count": 35,
   "metadata": {},
   "outputs": [],
   "source": [
    "BOS_COORDINATES = (42.35866, -71.05674)\n",
    "RECORDS = [i for i in range(0,len(airbnb_listings),1)]\n",
    "map_osm = folium.Map(BOS_COORDINATES, zoom_start=12)\n",
    "for each in airbnb_listings.loc[0:5,:].iterrows():\n",
    "#for each in airbnb_listings.loc[RECORDS,:].iterrows():\n",
    "    map_osm.add_child(folium.Marker(location = [each[1]['latitude'],each[1]['longitude']],\n",
    "                                    popup = \"ID: \"+ str(each[1]['id']) + \"<br>\" + \"Name: \"+ str(each[1]['name'])\n",
    "                                   )\n",
    "                     )\n",
    "map_osm.save('airbnb.html')"
   ]
  },
  {
   "cell_type": "code",
   "execution_count": null,
   "metadata": {},
   "outputs": [],
   "source": []
  }
 ],
 "metadata": {
  "kernelspec": {
   "display_name": "Python 3",
   "language": "python",
   "name": "python3"
  }
 },
 "nbformat": 4,
 "nbformat_minor": 2
}
