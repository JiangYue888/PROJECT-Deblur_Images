{
 "cells": [
  {
   "cell_type": "code",
   "execution_count": null,
   "metadata": {},
   "outputs": [],
   "source": [
    "import folium  # conda install -c conda-forge folium\n",
    "import pandas as pd\n",
    "import os\n",
    "\n",
    "os.getcwd()\n",
    "#os.listdir(\"../data\")"
   ]
  },
  {
   "cell_type": "code",
   "execution_count": 2,
   "metadata": {},
   "outputs": [],
   "source": [
    "hotel = pd.read_csv(\"../data/7282_1.csv\")\n",
    "airbnb_listings = pd.read_csv(\"../data/listings.csv\")\n",
    "airbnb_reviews = pd.read_csv(\"../data/reviews.csv\")\n",
    "airbnb_calendar = pd.read_csv(\"../data/calendar.csv\")\n",
    "#crime = pd.read_csv(\"../data/crime.csv\")"
   ]
  },
  {
   "cell_type": "code",
   "execution_count": 3,
   "metadata": {},
   "outputs": [],
   "source": [
    "#airbnb_listings.count\n",
    "#hotel.head()\n",
    "#list(hotel)"
   ]
  },
  {
   "cell_type": "code",
   "execution_count": null,
   "metadata": {},
   "outputs": [],
   "source": [
    "BOS_COORDINATES = (42.35866, -71.05674)\n",
    "RECORDS = [i for i in range(0,len(airbnb_listings),1)]\n",
    "map_osm = folium.Map(BOS_COORDINATES, zoom_start=12)\n",
    "for each in airbnb_listings.loc[RECORDS,:].iterrows():\n",
    "    folium.Marker([each[1]['latitude'],each[1]['longitude']], popup=str(each[1]['id'])).add_to(map_osm)\n",
    "map_osm.save('hotel.html')"
   ]
  },
  {
   "cell_type": "code",
   "execution_count": null,
   "metadata": {},
   "outputs": [],
   "source": []
  }
 ],
 "metadata": {
  "kernelspec": {
   "display_name": "Python 3",
   "language": "python",
   "name": "python3"
  },
  "language_info": {
   "codemirror_mode": {
    "name": "ipython",
    "version": 3
   },
   "file_extension": ".py",
   "mimetype": "text/x-python",
   "name": "python",
   "nbconvert_exporter": "python",
   "pygments_lexer": "ipython3",
   "version": "3.6.4"
  }
 },
 "nbformat": 4,
 "nbformat_minor": 2
}
